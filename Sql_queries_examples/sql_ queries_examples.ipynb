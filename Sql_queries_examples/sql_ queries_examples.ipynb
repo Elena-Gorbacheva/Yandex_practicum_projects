{
 "cells": [
  {
   "cell_type": "markdown",
   "id": "4642e42a",
   "metadata": {},
   "source": [
    "# Примеры реализованных на SQL запросов "
   ]
  },
  {
   "cell_type": "code",
   "execution_count": null,
   "id": "ffc44a37",
   "metadata": {},
   "outputs": [],
   "source": [
    "SELECT title\n",
    "FROM stackoverflow.posts\n",
    "WHERE title IS NOT NULL and user_id in(\n",
    "select user_id\n",
    "from \n",
    "(SELECT distinct user_id,\n",
    "    COUNT(id) over (partition by user_id) as badge\n",
    "FROM stackoverflow.badges) as all_badges\n",
    "where badge > 1000\n",
    ")"
   ]
  },
  {
   "cell_type": "code",
   "execution_count": null,
   "id": "865c64f0",
   "metadata": {},
   "outputs": [],
   "source": [
    "SELECT ROUND(AVG(post_count), 0)\n",
    "FROM\n",
    "(\n",
    "    SELECT p.creation_date:: date,\n",
    "           COUNT(p.id) as post_count\n",
    "    FROM stackoverflow.posts p\n",
    "    JOIN stackoverflow.post_types pt ON p.post_type_id = pt.id\n",
    "    WHERE pt.type = 'Question' AND p.creation_date:: date BETWEEN '01.11.2008' AND '18.11.2008'\n",
    "    GROUP BY creation_date:: date\n",
    ") count_question;"
   ]
  },
  {
   "cell_type": "code",
   "execution_count": null,
   "id": "38cd7752",
   "metadata": {},
   "outputs": [],
   "source": [
    "with t1 AS (\n",
    "    select id,\n",
    "           views,\n",
    "           CASE\n",
    "               when views < 100 then 3\n",
    "               when views < 350 then 2\n",
    "               when views >= 350 then 1\n",
    "           END AS group_n\n",
    "    from stackoverflow.users\n",
    "    where location like '%United States%' AND views != 0), \n",
    "\n",
    "    t2 AS (\n",
    "    SELECT *,\n",
    "           MAX(views) OVER (PARTITION BY group_n) AS max_views\n",
    "    FROM t1\n",
    "    ORDER BY views DESC\n",
    "        )\n",
    "SELECT id,\n",
    "       group_n,\n",
    "       views\n",
    "FROM t2\n",
    "WHERE views = max_views\n",
    "ORDER BY views DESC, id"
   ]
  },
  {
   "cell_type": "code",
   "execution_count": null,
   "id": "39696115",
   "metadata": {},
   "outputs": [],
   "source": [
    "WITH u AS (\n",
    "    SELECT id as user_id,\n",
    "           creation_date:: date\n",
    "    FROM stackoverflow.users\n",
    "    WHERE creation_date:: date BETWEEN '01.11.2008' AND '30.11.2008'\n",
    "       ),\n",
    "       \n",
    "u_count AS (\n",
    "    SELECT creation_date, \n",
    "           EXTRACT(DAY FROM creation_date) AS day,\n",
    "           COUNT(user_id) AS user_count\n",
    "    FROM u\n",
    "    GROUP BY creation_date\n",
    "    ORDER BY creation_date\n",
    ")\n",
    "\n",
    "SELECT day,\n",
    "       user_count,\n",
    "       SUM(user_count) OVER(ROWS BETWEEN UNBOUNDED PRECEDING AND CURRENT ROW) AS accumulation_sum\n",
    "FROM u_count"
   ]
  },
  {
   "cell_type": "code",
   "execution_count": null,
   "id": "eac96250",
   "metadata": {},
   "outputs": [],
   "source": [
    "WITH t1 AS (\n",
    "    SELECT user_id,\n",
    "       COUNT(DISTINCT id) AS posts_count\n",
    "FROM stackoverflow.posts\n",
    "GROUP BY user_id\n",
    "ORDER BY posts_count desc\n",
    ")\n",
    "   \n",
    "SELECT  DISTINCT EXTRACT (WEEK FROM creation_date:: date),\n",
    "        MAX(creation_date) OVER(PARTITION BY EXTRACT (WEEK FROM creation_date:: date))\n",
    "FROM stackoverflow.posts\n",
    "WHERE user_id = (SELECT user_id\n",
    "                 FROM t1\n",
    "                 WHERE posts_count = (SELECT MAX(posts_count)\n",
    "                                      FROM t1))\n",
    "      AND DATE_TRUNC('MONTH', creation_date):: date = '01.10.2008'"
   ]
  }
 ],
 "metadata": {
  "kernelspec": {
   "display_name": "Python 3 (ipykernel)",
   "language": "python",
   "name": "python3"
  },
  "language_info": {
   "codemirror_mode": {
    "name": "ipython",
    "version": 3
   },
   "file_extension": ".py",
   "mimetype": "text/x-python",
   "name": "python",
   "nbconvert_exporter": "python",
   "pygments_lexer": "ipython3",
   "version": "3.10.9"
  },
  "toc": {
   "base_numbering": 1,
   "nav_menu": {},
   "number_sections": true,
   "sideBar": true,
   "skip_h1_title": true,
   "title_cell": "Table of Contents",
   "title_sidebar": "Contents",
   "toc_cell": false,
   "toc_position": {
    "height": "calc(100% - 180px)",
    "left": "10px",
    "top": "150px",
    "width": "240px"
   },
   "toc_section_display": true,
   "toc_window_display": false
  }
 },
 "nbformat": 4,
 "nbformat_minor": 5
}
